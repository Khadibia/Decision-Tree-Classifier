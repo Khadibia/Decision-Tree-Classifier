{
 "cells": [
  {
   "cell_type": "code",
   "execution_count": 3,
   "id": "298d2902-e5f2-472e-9ded-c2a5b99a26c8",
   "metadata": {},
   "outputs": [],
   "source": [
    "import pandas as pd\n",
    "import seaborn as sns\n",
    "import matplotlib.pyplot as plt"
   ]
  },
  {
   "cell_type": "code",
   "execution_count": 4,
   "id": "151db521-0ec1-4090-a639-aaae2bf27291",
   "metadata": {},
   "outputs": [
    {
     "data": {
      "text/html": [
       "<div>\n",
       "<style scoped>\n",
       "    .dataframe tbody tr th:only-of-type {\n",
       "        vertical-align: middle;\n",
       "    }\n",
       "\n",
       "    .dataframe tbody tr th {\n",
       "        vertical-align: top;\n",
       "    }\n",
       "\n",
       "    .dataframe thead th {\n",
       "        text-align: right;\n",
       "    }\n",
       "</style>\n",
       "<table border=\"1\" class=\"dataframe\">\n",
       "  <thead>\n",
       "    <tr style=\"text-align: right;\">\n",
       "      <th></th>\n",
       "      <th>age</th>\n",
       "      <th>gender</th>\n",
       "      <th>region</th>\n",
       "      <th>income_level</th>\n",
       "      <th>hypertension</th>\n",
       "      <th>diabetes</th>\n",
       "      <th>cholesterol_level</th>\n",
       "      <th>obesity</th>\n",
       "      <th>waist_circumference</th>\n",
       "      <th>family_history</th>\n",
       "      <th>...</th>\n",
       "      <th>blood_pressure_diastolic</th>\n",
       "      <th>fasting_blood_sugar</th>\n",
       "      <th>cholesterol_hdl</th>\n",
       "      <th>cholesterol_ldl</th>\n",
       "      <th>triglycerides</th>\n",
       "      <th>EKG_results</th>\n",
       "      <th>previous_heart_disease</th>\n",
       "      <th>medication_usage</th>\n",
       "      <th>participated_in_free_screening</th>\n",
       "      <th>heart_attack</th>\n",
       "    </tr>\n",
       "  </thead>\n",
       "  <tbody>\n",
       "    <tr>\n",
       "      <th>0</th>\n",
       "      <td>60</td>\n",
       "      <td>Male</td>\n",
       "      <td>Rural</td>\n",
       "      <td>Middle</td>\n",
       "      <td>0</td>\n",
       "      <td>1</td>\n",
       "      <td>211</td>\n",
       "      <td>0</td>\n",
       "      <td>83</td>\n",
       "      <td>0</td>\n",
       "      <td>...</td>\n",
       "      <td>62</td>\n",
       "      <td>173</td>\n",
       "      <td>48</td>\n",
       "      <td>121</td>\n",
       "      <td>101</td>\n",
       "      <td>Normal</td>\n",
       "      <td>0</td>\n",
       "      <td>0</td>\n",
       "      <td>0</td>\n",
       "      <td>0</td>\n",
       "    </tr>\n",
       "    <tr>\n",
       "      <th>1</th>\n",
       "      <td>53</td>\n",
       "      <td>Female</td>\n",
       "      <td>Urban</td>\n",
       "      <td>Low</td>\n",
       "      <td>0</td>\n",
       "      <td>0</td>\n",
       "      <td>208</td>\n",
       "      <td>0</td>\n",
       "      <td>106</td>\n",
       "      <td>1</td>\n",
       "      <td>...</td>\n",
       "      <td>76</td>\n",
       "      <td>70</td>\n",
       "      <td>58</td>\n",
       "      <td>83</td>\n",
       "      <td>138</td>\n",
       "      <td>Normal</td>\n",
       "      <td>1</td>\n",
       "      <td>0</td>\n",
       "      <td>1</td>\n",
       "      <td>0</td>\n",
       "    </tr>\n",
       "    <tr>\n",
       "      <th>2</th>\n",
       "      <td>62</td>\n",
       "      <td>Female</td>\n",
       "      <td>Urban</td>\n",
       "      <td>Low</td>\n",
       "      <td>0</td>\n",
       "      <td>0</td>\n",
       "      <td>231</td>\n",
       "      <td>1</td>\n",
       "      <td>112</td>\n",
       "      <td>1</td>\n",
       "      <td>...</td>\n",
       "      <td>74</td>\n",
       "      <td>118</td>\n",
       "      <td>69</td>\n",
       "      <td>130</td>\n",
       "      <td>171</td>\n",
       "      <td>Abnormal</td>\n",
       "      <td>0</td>\n",
       "      <td>1</td>\n",
       "      <td>0</td>\n",
       "      <td>1</td>\n",
       "    </tr>\n",
       "    <tr>\n",
       "      <th>3</th>\n",
       "      <td>73</td>\n",
       "      <td>Male</td>\n",
       "      <td>Urban</td>\n",
       "      <td>Low</td>\n",
       "      <td>1</td>\n",
       "      <td>0</td>\n",
       "      <td>202</td>\n",
       "      <td>0</td>\n",
       "      <td>82</td>\n",
       "      <td>1</td>\n",
       "      <td>...</td>\n",
       "      <td>65</td>\n",
       "      <td>98</td>\n",
       "      <td>52</td>\n",
       "      <td>85</td>\n",
       "      <td>146</td>\n",
       "      <td>Normal</td>\n",
       "      <td>0</td>\n",
       "      <td>1</td>\n",
       "      <td>1</td>\n",
       "      <td>0</td>\n",
       "    </tr>\n",
       "    <tr>\n",
       "      <th>4</th>\n",
       "      <td>52</td>\n",
       "      <td>Male</td>\n",
       "      <td>Urban</td>\n",
       "      <td>Middle</td>\n",
       "      <td>1</td>\n",
       "      <td>0</td>\n",
       "      <td>232</td>\n",
       "      <td>0</td>\n",
       "      <td>89</td>\n",
       "      <td>0</td>\n",
       "      <td>...</td>\n",
       "      <td>75</td>\n",
       "      <td>104</td>\n",
       "      <td>59</td>\n",
       "      <td>127</td>\n",
       "      <td>139</td>\n",
       "      <td>Normal</td>\n",
       "      <td>1</td>\n",
       "      <td>0</td>\n",
       "      <td>1</td>\n",
       "      <td>1</td>\n",
       "    </tr>\n",
       "  </tbody>\n",
       "</table>\n",
       "<p>5 rows × 28 columns</p>\n",
       "</div>"
      ],
      "text/plain": [
       "   age  gender region income_level  hypertension  diabetes  cholesterol_level  \\\n",
       "0   60    Male  Rural       Middle             0         1                211   \n",
       "1   53  Female  Urban          Low             0         0                208   \n",
       "2   62  Female  Urban          Low             0         0                231   \n",
       "3   73    Male  Urban          Low             1         0                202   \n",
       "4   52    Male  Urban       Middle             1         0                232   \n",
       "\n",
       "   obesity  waist_circumference  family_history  ... blood_pressure_diastolic  \\\n",
       "0        0                   83               0  ...                       62   \n",
       "1        0                  106               1  ...                       76   \n",
       "2        1                  112               1  ...                       74   \n",
       "3        0                   82               1  ...                       65   \n",
       "4        0                   89               0  ...                       75   \n",
       "\n",
       "  fasting_blood_sugar cholesterol_hdl cholesterol_ldl triglycerides  \\\n",
       "0                 173              48             121           101   \n",
       "1                  70              58              83           138   \n",
       "2                 118              69             130           171   \n",
       "3                  98              52              85           146   \n",
       "4                 104              59             127           139   \n",
       "\n",
       "  EKG_results  previous_heart_disease  medication_usage  \\\n",
       "0      Normal                       0                 0   \n",
       "1      Normal                       1                 0   \n",
       "2    Abnormal                       0                 1   \n",
       "3      Normal                       0                 1   \n",
       "4      Normal                       1                 0   \n",
       "\n",
       "   participated_in_free_screening  heart_attack  \n",
       "0                               0             0  \n",
       "1                               1             0  \n",
       "2                               0             1  \n",
       "3                               1             0  \n",
       "4                               1             1  \n",
       "\n",
       "[5 rows x 28 columns]"
      ]
     },
     "execution_count": 4,
     "metadata": {},
     "output_type": "execute_result"
    }
   ],
   "source": [
    "df = pd.read_csv(r'C:\\Users\\hp\\Documents\\Datasets\\New folder (3)\\heart_attack_prediction_indonesia.csv')\n",
    "df.head()"
   ]
  },
  {
   "cell_type": "code",
   "execution_count": 5,
   "id": "447460e8-1b28-4dbe-8582-b8716925d9b1",
   "metadata": {},
   "outputs": [
    {
     "name": "stdout",
     "output_type": "stream",
     "text": [
      "<class 'pandas.core.frame.DataFrame'>\n",
      "RangeIndex: 158355 entries, 0 to 158354\n",
      "Data columns (total 28 columns):\n",
      " #   Column                          Non-Null Count   Dtype  \n",
      "---  ------                          --------------   -----  \n",
      " 0   age                             158355 non-null  int64  \n",
      " 1   gender                          158355 non-null  object \n",
      " 2   region                          158355 non-null  object \n",
      " 3   income_level                    158355 non-null  object \n",
      " 4   hypertension                    158355 non-null  int64  \n",
      " 5   diabetes                        158355 non-null  int64  \n",
      " 6   cholesterol_level               158355 non-null  int64  \n",
      " 7   obesity                         158355 non-null  int64  \n",
      " 8   waist_circumference             158355 non-null  int64  \n",
      " 9   family_history                  158355 non-null  int64  \n",
      " 10  smoking_status                  158355 non-null  object \n",
      " 11  alcohol_consumption             63507 non-null   object \n",
      " 12  physical_activity               158355 non-null  object \n",
      " 13  dietary_habits                  158355 non-null  object \n",
      " 14  air_pollution_exposure          158355 non-null  object \n",
      " 15  stress_level                    158355 non-null  object \n",
      " 16  sleep_hours                     158355 non-null  float64\n",
      " 17  blood_pressure_systolic         158355 non-null  int64  \n",
      " 18  blood_pressure_diastolic        158355 non-null  int64  \n",
      " 19  fasting_blood_sugar             158355 non-null  int64  \n",
      " 20  cholesterol_hdl                 158355 non-null  int64  \n",
      " 21  cholesterol_ldl                 158355 non-null  int64  \n",
      " 22  triglycerides                   158355 non-null  int64  \n",
      " 23  EKG_results                     158355 non-null  object \n",
      " 24  previous_heart_disease          158355 non-null  int64  \n",
      " 25  medication_usage                158355 non-null  int64  \n",
      " 26  participated_in_free_screening  158355 non-null  int64  \n",
      " 27  heart_attack                    158355 non-null  int64  \n",
      "dtypes: float64(1), int64(17), object(10)\n",
      "memory usage: 33.8+ MB\n"
     ]
    }
   ],
   "source": [
    "df.info()"
   ]
  },
  {
   "cell_type": "code",
   "execution_count": 6,
   "id": "09c91b6a-3380-4efb-aa8f-e1fdfe870362",
   "metadata": {},
   "outputs": [
    {
     "data": {
      "text/plain": [
       "age                                   0\n",
       "gender                                0\n",
       "region                                0\n",
       "income_level                          0\n",
       "hypertension                          0\n",
       "diabetes                              0\n",
       "cholesterol_level                     0\n",
       "obesity                               0\n",
       "waist_circumference                   0\n",
       "family_history                        0\n",
       "smoking_status                        0\n",
       "alcohol_consumption               94848\n",
       "physical_activity                     0\n",
       "dietary_habits                        0\n",
       "air_pollution_exposure                0\n",
       "stress_level                          0\n",
       "sleep_hours                           0\n",
       "blood_pressure_systolic               0\n",
       "blood_pressure_diastolic              0\n",
       "fasting_blood_sugar                   0\n",
       "cholesterol_hdl                       0\n",
       "cholesterol_ldl                       0\n",
       "triglycerides                         0\n",
       "EKG_results                           0\n",
       "previous_heart_disease                0\n",
       "medication_usage                      0\n",
       "participated_in_free_screening        0\n",
       "heart_attack                          0\n",
       "dtype: int64"
      ]
     },
     "execution_count": 6,
     "metadata": {},
     "output_type": "execute_result"
    }
   ],
   "source": [
    "df.isna().sum()"
   ]
  },
  {
   "cell_type": "code",
   "execution_count": 7,
   "id": "0637fbc2-4544-47ed-b750-e1f2fb06152d",
   "metadata": {},
   "outputs": [],
   "source": [
    "df.drop('alcohol_consumption', axis =1, inplace=True)"
   ]
  },
  {
   "cell_type": "code",
   "execution_count": 8,
   "id": "de359761-425b-4614-a63c-6ea80807448a",
   "metadata": {},
   "outputs": [
    {
     "name": "stdout",
     "output_type": "stream",
     "text": [
      "<class 'pandas.core.frame.DataFrame'>\n",
      "RangeIndex: 158355 entries, 0 to 158354\n",
      "Data columns (total 27 columns):\n",
      " #   Column                          Non-Null Count   Dtype  \n",
      "---  ------                          --------------   -----  \n",
      " 0   age                             158355 non-null  int64  \n",
      " 1   gender                          158355 non-null  object \n",
      " 2   region                          158355 non-null  object \n",
      " 3   income_level                    158355 non-null  object \n",
      " 4   hypertension                    158355 non-null  int64  \n",
      " 5   diabetes                        158355 non-null  int64  \n",
      " 6   cholesterol_level               158355 non-null  int64  \n",
      " 7   obesity                         158355 non-null  int64  \n",
      " 8   waist_circumference             158355 non-null  int64  \n",
      " 9   family_history                  158355 non-null  int64  \n",
      " 10  smoking_status                  158355 non-null  object \n",
      " 11  physical_activity               158355 non-null  object \n",
      " 12  dietary_habits                  158355 non-null  object \n",
      " 13  air_pollution_exposure          158355 non-null  object \n",
      " 14  stress_level                    158355 non-null  object \n",
      " 15  sleep_hours                     158355 non-null  float64\n",
      " 16  blood_pressure_systolic         158355 non-null  int64  \n",
      " 17  blood_pressure_diastolic        158355 non-null  int64  \n",
      " 18  fasting_blood_sugar             158355 non-null  int64  \n",
      " 19  cholesterol_hdl                 158355 non-null  int64  \n",
      " 20  cholesterol_ldl                 158355 non-null  int64  \n",
      " 21  triglycerides                   158355 non-null  int64  \n",
      " 22  EKG_results                     158355 non-null  object \n",
      " 23  previous_heart_disease          158355 non-null  int64  \n",
      " 24  medication_usage                158355 non-null  int64  \n",
      " 25  participated_in_free_screening  158355 non-null  int64  \n",
      " 26  heart_attack                    158355 non-null  int64  \n",
      "dtypes: float64(1), int64(17), object(9)\n",
      "memory usage: 32.6+ MB\n"
     ]
    }
   ],
   "source": [
    "df.info()"
   ]
  },
  {
   "cell_type": "code",
   "execution_count": 9,
   "id": "83a6afd7-8c47-439c-a359-591a7c66e341",
   "metadata": {},
   "outputs": [
    {
     "data": {
      "text/plain": [
       "0"
      ]
     },
     "execution_count": 9,
     "metadata": {},
     "output_type": "execute_result"
    }
   ],
   "source": [
    "df.duplicated().sum()"
   ]
  },
  {
   "cell_type": "code",
   "execution_count": 10,
   "id": "0bc1f1df-210e-4ac1-90c8-dbc2be642b77",
   "metadata": {},
   "outputs": [
    {
     "data": {
      "text/html": [
       "<div>\n",
       "<style scoped>\n",
       "    .dataframe tbody tr th:only-of-type {\n",
       "        vertical-align: middle;\n",
       "    }\n",
       "\n",
       "    .dataframe tbody tr th {\n",
       "        vertical-align: top;\n",
       "    }\n",
       "\n",
       "    .dataframe thead th {\n",
       "        text-align: right;\n",
       "    }\n",
       "</style>\n",
       "<table border=\"1\" class=\"dataframe\">\n",
       "  <thead>\n",
       "    <tr style=\"text-align: right;\">\n",
       "      <th></th>\n",
       "      <th>age</th>\n",
       "      <th>gender</th>\n",
       "      <th>region</th>\n",
       "      <th>income_level</th>\n",
       "      <th>hypertension</th>\n",
       "      <th>diabetes</th>\n",
       "      <th>cholesterol_level</th>\n",
       "      <th>obesity</th>\n",
       "      <th>waist_circumference</th>\n",
       "      <th>family_history</th>\n",
       "      <th>...</th>\n",
       "      <th>blood_pressure_diastolic</th>\n",
       "      <th>fasting_blood_sugar</th>\n",
       "      <th>cholesterol_hdl</th>\n",
       "      <th>cholesterol_ldl</th>\n",
       "      <th>triglycerides</th>\n",
       "      <th>EKG_results</th>\n",
       "      <th>previous_heart_disease</th>\n",
       "      <th>medication_usage</th>\n",
       "      <th>participated_in_free_screening</th>\n",
       "      <th>heart_attack</th>\n",
       "    </tr>\n",
       "  </thead>\n",
       "  <tbody>\n",
       "    <tr>\n",
       "      <th>0</th>\n",
       "      <td>60</td>\n",
       "      <td>Male</td>\n",
       "      <td>Rural</td>\n",
       "      <td>Middle</td>\n",
       "      <td>0</td>\n",
       "      <td>1</td>\n",
       "      <td>211</td>\n",
       "      <td>0</td>\n",
       "      <td>83</td>\n",
       "      <td>0</td>\n",
       "      <td>...</td>\n",
       "      <td>62</td>\n",
       "      <td>173</td>\n",
       "      <td>48</td>\n",
       "      <td>121</td>\n",
       "      <td>101</td>\n",
       "      <td>Normal</td>\n",
       "      <td>0</td>\n",
       "      <td>0</td>\n",
       "      <td>0</td>\n",
       "      <td>0</td>\n",
       "    </tr>\n",
       "    <tr>\n",
       "      <th>1</th>\n",
       "      <td>53</td>\n",
       "      <td>Female</td>\n",
       "      <td>Urban</td>\n",
       "      <td>Low</td>\n",
       "      <td>0</td>\n",
       "      <td>0</td>\n",
       "      <td>208</td>\n",
       "      <td>0</td>\n",
       "      <td>106</td>\n",
       "      <td>1</td>\n",
       "      <td>...</td>\n",
       "      <td>76</td>\n",
       "      <td>70</td>\n",
       "      <td>58</td>\n",
       "      <td>83</td>\n",
       "      <td>138</td>\n",
       "      <td>Normal</td>\n",
       "      <td>1</td>\n",
       "      <td>0</td>\n",
       "      <td>1</td>\n",
       "      <td>0</td>\n",
       "    </tr>\n",
       "    <tr>\n",
       "      <th>2</th>\n",
       "      <td>62</td>\n",
       "      <td>Female</td>\n",
       "      <td>Urban</td>\n",
       "      <td>Low</td>\n",
       "      <td>0</td>\n",
       "      <td>0</td>\n",
       "      <td>231</td>\n",
       "      <td>1</td>\n",
       "      <td>112</td>\n",
       "      <td>1</td>\n",
       "      <td>...</td>\n",
       "      <td>74</td>\n",
       "      <td>118</td>\n",
       "      <td>69</td>\n",
       "      <td>130</td>\n",
       "      <td>171</td>\n",
       "      <td>Abnormal</td>\n",
       "      <td>0</td>\n",
       "      <td>1</td>\n",
       "      <td>0</td>\n",
       "      <td>1</td>\n",
       "    </tr>\n",
       "    <tr>\n",
       "      <th>3</th>\n",
       "      <td>73</td>\n",
       "      <td>Male</td>\n",
       "      <td>Urban</td>\n",
       "      <td>Low</td>\n",
       "      <td>1</td>\n",
       "      <td>0</td>\n",
       "      <td>202</td>\n",
       "      <td>0</td>\n",
       "      <td>82</td>\n",
       "      <td>1</td>\n",
       "      <td>...</td>\n",
       "      <td>65</td>\n",
       "      <td>98</td>\n",
       "      <td>52</td>\n",
       "      <td>85</td>\n",
       "      <td>146</td>\n",
       "      <td>Normal</td>\n",
       "      <td>0</td>\n",
       "      <td>1</td>\n",
       "      <td>1</td>\n",
       "      <td>0</td>\n",
       "    </tr>\n",
       "    <tr>\n",
       "      <th>4</th>\n",
       "      <td>52</td>\n",
       "      <td>Male</td>\n",
       "      <td>Urban</td>\n",
       "      <td>Middle</td>\n",
       "      <td>1</td>\n",
       "      <td>0</td>\n",
       "      <td>232</td>\n",
       "      <td>0</td>\n",
       "      <td>89</td>\n",
       "      <td>0</td>\n",
       "      <td>...</td>\n",
       "      <td>75</td>\n",
       "      <td>104</td>\n",
       "      <td>59</td>\n",
       "      <td>127</td>\n",
       "      <td>139</td>\n",
       "      <td>Normal</td>\n",
       "      <td>1</td>\n",
       "      <td>0</td>\n",
       "      <td>1</td>\n",
       "      <td>1</td>\n",
       "    </tr>\n",
       "  </tbody>\n",
       "</table>\n",
       "<p>5 rows × 27 columns</p>\n",
       "</div>"
      ],
      "text/plain": [
       "   age  gender region income_level  hypertension  diabetes  cholesterol_level  \\\n",
       "0   60    Male  Rural       Middle             0         1                211   \n",
       "1   53  Female  Urban          Low             0         0                208   \n",
       "2   62  Female  Urban          Low             0         0                231   \n",
       "3   73    Male  Urban          Low             1         0                202   \n",
       "4   52    Male  Urban       Middle             1         0                232   \n",
       "\n",
       "   obesity  waist_circumference  family_history  ... blood_pressure_diastolic  \\\n",
       "0        0                   83               0  ...                       62   \n",
       "1        0                  106               1  ...                       76   \n",
       "2        1                  112               1  ...                       74   \n",
       "3        0                   82               1  ...                       65   \n",
       "4        0                   89               0  ...                       75   \n",
       "\n",
       "  fasting_blood_sugar cholesterol_hdl cholesterol_ldl triglycerides  \\\n",
       "0                 173              48             121           101   \n",
       "1                  70              58              83           138   \n",
       "2                 118              69             130           171   \n",
       "3                  98              52              85           146   \n",
       "4                 104              59             127           139   \n",
       "\n",
       "   EKG_results  previous_heart_disease  medication_usage  \\\n",
       "0       Normal                       0                 0   \n",
       "1       Normal                       1                 0   \n",
       "2     Abnormal                       0                 1   \n",
       "3       Normal                       0                 1   \n",
       "4       Normal                       1                 0   \n",
       "\n",
       "   participated_in_free_screening  heart_attack  \n",
       "0                               0             0  \n",
       "1                               1             0  \n",
       "2                               0             1  \n",
       "3                               1             0  \n",
       "4                               1             1  \n",
       "\n",
       "[5 rows x 27 columns]"
      ]
     },
     "execution_count": 10,
     "metadata": {},
     "output_type": "execute_result"
    }
   ],
   "source": [
    "df.head()"
   ]
  },
  {
   "cell_type": "code",
   "execution_count": 11,
   "id": "153e70c5-73f6-4227-8f1f-f628a5846515",
   "metadata": {},
   "outputs": [],
   "source": [
    "from sklearn.preprocessing import LabelEncoder\n",
    "cat = df.select_dtypes('object')\n",
    "le = LabelEncoder()\n",
    "for col in cat:\n",
    "    df[col] = le.fit_transform(df[col])"
   ]
  },
  {
   "cell_type": "code",
   "execution_count": 12,
   "id": "87f3516e-ebc1-47b3-ad71-84f3dfe9ace9",
   "metadata": {},
   "outputs": [],
   "source": [
    "from sklearn.model_selection import train_test_split\n",
    "\n",
    "y = df['heart_attack']\n",
    "X = df.drop(columns=['heart_attack'], axis=1)\n",
    "\n",
    "X_train, X_test, y_train, y_test = train_test_split(X,y, test_size=.2, random_state=26)"
   ]
  },
  {
   "cell_type": "raw",
   "id": "daa8fb3a-48e1-4dd1-b603-98e908ad27e2",
   "metadata": {},
   "source": [
    "from sklearn.feature_selection import RFE\n",
    "model = DecisionTreeClassifier()\n",
    "rfe = RFE(model, n_features_to_select=15)"
   ]
  },
  {
   "cell_type": "raw",
   "id": "7481dc78-4b10-4b5e-9d3f-60d81297d0b0",
   "metadata": {},
   "source": [
    "X_train_rfe = rfe.fit_transform(X_train, y_train)\n",
    "X_test_rfe = rfe.transform(X_test)"
   ]
  },
  {
   "cell_type": "code",
   "execution_count": 25,
   "id": "4042f0d5-4dcd-4fcb-bc0b-b63b821938e5",
   "metadata": {},
   "outputs": [
    {
     "name": "stdout",
     "output_type": "stream",
     "text": [
      "Fitting 5 folds for each of 27 candidates, totalling 135 fits\n",
      "best accuracy 0.7351678047429335\n",
      "DecisionTreeClassifier(max_depth=8, min_samples_leaf=10, min_samples_split=5,\n",
      "                       random_state=1)\n"
     ]
    }
   ],
   "source": [
    "from sklearn.tree import DecisionTreeClassifier\n",
    "from sklearn.model_selection import GridSearchCV\n",
    "\n",
    "param_grid = {\n",
    "    'max_depth': [4, 6, 8],\n",
    "    'min_samples_leaf': [5, 10, 15],\n",
    "    'min_samples_split': [5, 10, 15]\n",
    "}\n",
    "model = DecisionTreeClassifier(random_state=1)\n",
    "# GridSearchCV\n",
    "grid_search = GridSearchCV(estimator=model, param_grid=param_grid, \n",
    "                           cv=5, verbose=True)\n",
    "grid_search.fit(X_train, y_train)\n",
    "print(\"best accuracy\", grid_search.best_score_)\n",
    "print(grid_search.best_estimator_)"
   ]
  },
  {
   "cell_type": "code",
   "execution_count": 27,
   "id": "9e498163-6a67-41f7-8440-180940d14735",
   "metadata": {},
   "outputs": [
    {
     "name": "stdout",
     "output_type": "stream",
     "text": [
      "Fitting 5 folds for each of 48 candidates, totalling 240 fits\n",
      "best accuracy 0.7312209745438562\n",
      "DecisionTreeClassifier(max_depth=10, min_samples_leaf=20, min_samples_split=5,\n",
      "                       random_state=1)\n"
     ]
    }
   ],
   "source": [
    "from sklearn.tree import DecisionTreeClassifier\n",
    "from sklearn.model_selection import GridSearchCV\n",
    "\n",
    "param_grid = {\n",
    "    'max_depth': [10, 15, 20],\n",
    "    'min_samples_leaf': [5, 10, 15, 20],\n",
    "    'min_samples_split': [5, 10, 15, 20]\n",
    "}\n",
    "model = DecisionTreeClassifier(random_state=1)\n",
    "# GridSearchCV\n",
    "grid_search = GridSearchCV(estimator=model, param_grid=param_grid, \n",
    "                           cv=5, verbose=True)\n",
    "grid_search.fit(X_train, y_train)\n",
    "print(\"best accuracy\", grid_search.best_score_)\n",
    "print(grid_search.best_estimator_)"
   ]
  },
  {
   "cell_type": "code",
   "execution_count": 29,
   "id": "eadd8448-7fda-440d-b8ba-172330880cfe",
   "metadata": {},
   "outputs": [],
   "source": [
    "model = grid_search.best_estimator_"
   ]
  },
  {
   "cell_type": "code",
   "execution_count": 31,
   "id": "08f06b78-cb64-4643-bf85-bdcbb53d067a",
   "metadata": {},
   "outputs": [],
   "source": [
    "pred = model.predict(X_test)"
   ]
  },
  {
   "cell_type": "code",
   "execution_count": 39,
   "id": "a3c29998-3285-46a7-a15c-44158aec8e99",
   "metadata": {},
   "outputs": [
    {
     "name": "stdout",
     "output_type": "stream",
     "text": [
      "Metrics:\n",
      "Model Accuracy:  0.7274478229294938\n",
      "Precision : 0.6842400448681997\n",
      "Recall Score:  0.582153650389693\n",
      "F1 Score:  0.6290821588174631\n"
     ]
    }
   ],
   "source": [
    "from sklearn.metrics import accuracy_score, recall_score, precision_score, f1_score\n",
    "accuracy = accuracy_score(y_test, pred)\n",
    "precision = precision_score(y_test, pred)\n",
    "recall = recall_score(y_test, pred)\n",
    "f1 = f1_score(y_test, pred)\n",
    "\n",
    "print('Metrics:')\n",
    "print('Model Accuracy: ', accuracy)\n",
    "print('Precision :', precision)\n",
    "print('Recall Score: ', recall)\n",
    "print('F1 Score: ', f1)"
   ]
  },
  {
   "cell_type": "code",
   "execution_count": 52,
   "id": "442e01ec-bd44-4bec-b387-c31c1f27ae77",
   "metadata": {},
   "outputs": [
    {
     "name": "stdout",
     "output_type": "stream",
     "text": [
      "              precision    recall  f1-score   support\n",
      "\n",
      "           0       0.75      0.82      0.78     19097\n",
      "           1       0.68      0.58      0.63     12574\n",
      "\n",
      "    accuracy                           0.73     31671\n",
      "   macro avg       0.72      0.70      0.71     31671\n",
      "weighted avg       0.72      0.73      0.72     31671\n",
      "\n"
     ]
    }
   ],
   "source": [
    "from sklearn.metrics import classification_report, confusion_matrix,ConfusionMatrixDisplay\n",
    "report = classification_report(y_test, pred)\n",
    "print(report)"
   ]
  },
  {
   "cell_type": "code",
   "execution_count": 60,
   "id": "10dfaf88-352e-420e-bf3a-3d61e26daab7",
   "metadata": {},
   "outputs": [
    {
     "data": {
      "text/plain": [
       "<sklearn.metrics._plot.confusion_matrix.ConfusionMatrixDisplay at 0x1ef80d26a10>"
      ]
     },
     "execution_count": 60,
     "metadata": {},
     "output_type": "execute_result"
    },
    {
     "data": {
      "image/png": "[encoded data removed]",
      "text/plain": [
       "<Figure size 640x480 with 2 Axes>"
      ]
     },
     "metadata": {},
     "output_type": "display_data"
    }
   ],
   "source": [
    "cm = confusion_matrix(y_test, pred)\n",
    "disp = ConfusionMatrixDisplay(confusion_matrix=cm)\n",
    "disp.plot()"
   ]
  },
  {
   "cell_type": "code",
   "execution_count": 43,
   "id": "3e653efb-d9f7-4b52-8b43-567b8bd755f3",
   "metadata": {},
   "outputs": [
    {
     "data": {
      "text/plain": [
       "array([0.72605854, 0.73028954, 0.72624799, 0.73139465, 0.72792144])"
      ]
     },
     "execution_count": 43,
     "metadata": {},
     "output_type": "execute_result"
    }
   ],
   "source": [
    "from sklearn.model_selection import cross_val_score\n",
    "scores = cross_val_score(model, X,y, cv=5)\n",
    "scores"
   ]
  },
  {
   "cell_type": "code",
   "execution_count": 46,
   "id": "626aabf6-c05d-4c44-ba0a-c938ec7e6c66",
   "metadata": {},
   "outputs": [
    {
     "data": {
      "image/png": "[encoded data removed]",
      "text/plain": [
       "<Figure size 2000x1200 with 1 Axes>"
      ]
     },
     "metadata": {},
     "output_type": "display_data"
    }
   ],
   "source": [
    "from sklearn.tree import plot_tree\n",
    "plt.figure(figsize=(20,12))\n",
    "plot_tree(model, max_depth=2, fontsize=14, feature_names=X.columns);"
   ]
  }
 ],
 "metadata": {
  "kernelspec": {
   "display_name": "Python [conda env:base] *",
   "language": "python",
   "name": "conda-base-py"
  },
  "language_info": {
   "codemirror_mode": {
    "name": "ipython",
    "version": 3
   },
   "file_extension": ".py",
   "mimetype": "text/x-python",
   "name": "python",
   "nbconvert_exporter": "python",
   "pygments_lexer": "ipython3",
   "version": "3.11.7"
  }
 },
 "nbformat": 4,
 "nbformat_minor": 5
}
